{
 "cells": [
  {
   "cell_type": "code",
   "execution_count": null,
   "metadata": {
    "collapsed": false
   },
   "outputs": [],
   "source": [
    "%matplotlib inline"
   ]
  },
  {
   "cell_type": "code",
   "execution_count": null,
   "metadata": {
    "collapsed": true
   },
   "outputs": [],
   "source": [
    "from pylab import rcParams\n",
    "rcParams['figure.figsize'] = 15,8"
   ]
  },
  {
   "cell_type": "code",
   "execution_count": null,
   "metadata": {
    "collapsed": false
   },
   "outputs": [],
   "source": [
    "import scipy.stats\n",
    "import analysis"
   ]
  },
  {
   "cell_type": "code",
   "execution_count": null,
   "metadata": {
    "collapsed": false
   },
   "outputs": [],
   "source": [
    "data = analysis.get_full_dict()"
   ]
  },
  {
   "cell_type": "code",
   "execution_count": null,
   "metadata": {
    "collapsed": false
   },
   "outputs": [],
   "source": [
    "correlations = {}\n",
    "\n",
    "any = next(iter(data.keys()))\n",
    "questions = list(data[any].keys())\n",
    "\n",
    "for i in range(len(questions)):\n",
    "    row = questions[i]\n",
    "    x = analysis.pull_data(data, data.keys(), row)\n",
    "\n",
    "    if not isinstance(x[0], (int, float)):\n",
    "        continue\n",
    "        \n",
    "    correlations[row] = {}\n",
    "    \n",
    "    for j in range(i):\n",
    "        col = questions[j]\n",
    "        y = analysis.pull_data(data, data.keys(), col)\n",
    "        \n",
    "        if not isinstance(y[0], (int, float)):\n",
    "            continue\n",
    "        \n",
    "        correlations[row][col] = scipy.stats.pearsonr(x, y)\n",
    "        \n",
    "correlations"
   ]
  },
  {
   "cell_type": "code",
   "execution_count": null,
   "metadata": {
    "collapsed": true
   },
   "outputs": [],
   "source": []
  }
 ],
 "metadata": {
  "kernelspec": {
   "display_name": "Python 3",
   "language": "python",
   "name": "python3"
  },
  "language_info": {
   "codemirror_mode": {
    "name": "ipython",
    "version": 3
   },
   "file_extension": ".py",
   "mimetype": "text/x-python",
   "name": "python",
   "nbconvert_exporter": "python",
   "pygments_lexer": "ipython3",
   "version": "3.5.1"
  }
 },
 "nbformat": 4,
 "nbformat_minor": 0
}
