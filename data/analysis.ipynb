{
 "cells": [
  {
   "cell_type": "code",
   "execution_count": null,
   "metadata": {
    "collapsed": false
   },
   "outputs": [],
   "source": [
    "%matplotlib inline"
   ]
  },
  {
   "cell_type": "code",
   "execution_count": null,
   "metadata": {
    "collapsed": true
   },
   "outputs": [],
   "source": [
    "from pylab import rcParams\n",
    "rcParams['figure.figsize'] = 15,8"
   ]
  },
  {
   "cell_type": "code",
   "execution_count": null,
   "metadata": {
    "collapsed": false
   },
   "outputs": [],
   "source": [
    "import scipy.stats\n",
    "import analysis\n",
    "from matplotlib import pyplot\n",
    "from matplotlib import colors"
   ]
  },
  {
   "cell_type": "code",
   "execution_count": null,
   "metadata": {
    "collapsed": false
   },
   "outputs": [],
   "source": [
    "data = analysis.get_full_dict()"
   ]
  },
  {
   "cell_type": "code",
   "execution_count": null,
   "metadata": {
    "collapsed": false
   },
   "outputs": [],
   "source": [
    "correlations = {}\n",
    "\n",
    "any = next(iter(data.keys()))\n",
    "questions = list(data[any].keys())\n",
    "top_pvals = []\n",
    "\n",
    "for i in range(len(questions)):\n",
    "    row = questions[i]\n",
    "    x = analysis.pull_data(data, data.keys(), row)\n",
    "\n",
    "    if not isinstance(x[0], (int, float)):\n",
    "        continue\n",
    "        \n",
    "    correlations[row] = {}\n",
    "    \n",
    "    for j in range(len(questions)):\n",
    "        col = questions[j]\n",
    "        y = analysis.pull_data(data, data.keys(), col)\n",
    "        \n",
    "        if not isinstance(y[0], (int, float)):\n",
    "            continue\n",
    "        \n",
    "        correlations[row][col] = scipy.stats.pearsonr(x, y)\n",
    "        \n",
    "        if j < i:\n",
    "            top_pvals.append((row, col) + correlations[row][col])"
   ]
  },
  {
   "cell_type": "code",
   "execution_count": null,
   "metadata": {
    "collapsed": false
   },
   "outputs": [],
   "source": [
    "sorted(top_pvals, key=lambda x: x[3])[:5]"
   ]
  },
  {
   "cell_type": "code",
   "execution_count": null,
   "metadata": {
    "collapsed": false
   },
   "outputs": [],
   "source": [
    "matrix = []\n",
    "keys = []\n",
    "\n",
    "for k in ('usability', 'efficiency', 'knowledge'):\n",
    "    keys += analysis.qs_entry[k]\n",
    "    \n",
    "for k in ('usability', 'education', 'intention'):\n",
    "    keys += analysis.qs_exit[k]\n",
    "\n",
    "for i, row in enumerate(keys):\n",
    "    matrix.append([])\n",
    "    for j, col in enumerate(keys):\n",
    "        matrix[i].append(correlations[row][col])"
   ]
  },
  {
   "cell_type": "code",
   "execution_count": null,
   "metadata": {
    "collapsed": false
   },
   "outputs": [],
   "source": [
    "my_cmap = colors.LinearSegmentedColormap(\n",
    "    'Custom',\n",
    "    {\n",
    "        'red':   ((0.0, 1.0, 1.0),\n",
    "                  (0.4, 1.0, 1.0),\n",
    "                  (0.8, 0.0, 0.0),\n",
    "                  (1.0, 1.0, 1.0)),\n",
    "\n",
    "        'green': ((0.0, 0.0, 0.0),\n",
    "                  (0.4, 1.0, 1.0),\n",
    "                  (0.8, 0.0, 0.0),\n",
    "                  (1.0, 1.0, 1.0)),\n",
    "\n",
    "        'blue':  ((0.0, 0.0, 0.0),\n",
    "                  (0.4, 1.0, 1.0),\n",
    "                  (0.8, 1.0, 1.0),\n",
    "                  (1.0, 1.0, 1.0))\n",
    "    }\n",
    ")\n",
    "\n",
    "fig, ax = pyplot.subplots()\n",
    "image = [[(1 + x[0]) / 2.5 if x[1] < 0.05 else 1.0 for x in row] for row in matrix]\n",
    "ax.imshow(image, cmap=my_cmap, interpolation='nearest')\n",
    "pyplot.xlabel(\"Signifigant Correlations\", fontsize=16)\n",
    "ax.xaxis.tick_top()\n",
    "pyplot.xticks(range(len(keys)), keys, rotation='vertical')\n",
    "pyplot.yticks(range(len(keys)), keys)\n",
    "#pyplot.setp(pyplot.xticks()[1], rotation=270)\n",
    "\n",
    "fig, ax = pyplot.subplots()\n",
    "image = [[1 - 20 * x[1] if x[1] < 0.05 else 0 for x in row] for row in matrix]\n",
    "ax.imshow(image, cmap=pyplot.cm.Blues, interpolation='nearest')\n",
    "pyplot.title(\"Signifigant P-Values\", fontsize=16)"
   ]
  },
  {
   "cell_type": "code",
   "execution_count": null,
   "metadata": {
    "collapsed": true
   },
   "outputs": [],
   "source": []
  }
 ],
 "metadata": {
  "kernelspec": {
   "display_name": "Python 3",
   "language": "python",
   "name": "python3"
  },
  "language_info": {
   "codemirror_mode": {
    "name": "ipython",
    "version": 3
   },
   "file_extension": ".py",
   "mimetype": "text/x-python",
   "name": "python",
   "nbconvert_exporter": "python",
   "pygments_lexer": "ipython3",
   "version": "3.5.1"
  }
 },
 "nbformat": 4,
 "nbformat_minor": 0
}
