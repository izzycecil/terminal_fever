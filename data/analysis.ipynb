{
 "cells": [
  {
   "cell_type": "code",
   "execution_count": null,
   "metadata": {
    "collapsed": false
   },
   "outputs": [],
   "source": [
    "%matplotlib inline"
   ]
  },
  {
   "cell_type": "code",
   "execution_count": null,
   "metadata": {
    "collapsed": true
   },
   "outputs": [],
   "source": [
    "from pylab import rcParams\n",
    "rcParams['figure.figsize'] = 15,8"
   ]
  },
  {
   "cell_type": "code",
   "execution_count": null,
   "metadata": {
    "collapsed": false
   },
   "outputs": [],
   "source": [
    "import scipy.stats\n",
    "import analysis\n",
    "from matplotlib import pyplot"
   ]
  },
  {
   "cell_type": "code",
   "execution_count": null,
   "metadata": {
    "collapsed": false
   },
   "outputs": [],
   "source": [
    "data = analysis.get_full_dict()"
   ]
  },
  {
   "cell_type": "code",
   "execution_count": null,
   "metadata": {
    "collapsed": false
   },
   "outputs": [],
   "source": [
    "correlations = {}\n",
    "\n",
    "any = next(iter(data.keys()))\n",
    "questions = list(data[any].keys())\n",
    "\n",
    "for i in range(len(questions)):\n",
    "    row = questions[i]\n",
    "    x = analysis.pull_data(data, data.keys(), row)\n",
    "\n",
    "    if not isinstance(x[0], (int, float)):\n",
    "        continue\n",
    "        \n",
    "    correlations[row] = {}\n",
    "    \n",
    "    for j in range(len(questions)):\n",
    "        col = questions[j]\n",
    "        y = analysis.pull_data(data, data.keys(), col)\n",
    "        \n",
    "        if not isinstance(y[0], (int, float)):\n",
    "            continue\n",
    "        \n",
    "        correlations[row][col] = scipy.stats.pearsonr(x, y)"
   ]
  },
  {
   "cell_type": "code",
   "execution_count": null,
   "metadata": {
    "collapsed": false
   },
   "outputs": [],
   "source": [
    "matrix = []\n",
    "\n",
    "for i, row in enumerate(correlations.keys()):\n",
    "    matrix.append([])\n",
    "    for j, col in enumerate(correlations.keys()):\n",
    "        matrix[i].append(correlations[row][col])"
   ]
  },
  {
   "cell_type": "code",
   "execution_count": null,
   "metadata": {
    "collapsed": false
   },
   "outputs": [],
   "source": [
    "fig, ax = pyplot.subplots()\n",
    "image = [[x[1] for x in row] for row in matrix]\n",
    "\n",
    "ax.imshow(image, cmap=pyplot.cm.gray, interpolation='nearest')"
   ]
  },
  {
   "cell_type": "code",
   "execution_count": null,
   "metadata": {
    "collapsed": true
   },
   "outputs": [],
   "source": []
  }
 ],
 "metadata": {
  "kernelspec": {
   "display_name": "Python 3",
   "language": "python",
   "name": "python3"
  },
  "language_info": {
   "codemirror_mode": {
    "name": "ipython",
    "version": 3
   },
   "file_extension": ".py",
   "mimetype": "text/x-python",
   "name": "python",
   "nbconvert_exporter": "python",
   "pygments_lexer": "ipython3",
   "version": "3.5.1"
  }
 },
 "nbformat": 4,
 "nbformat_minor": 0
}
