{
 "cells": [
  {
   "cell_type": "code",
   "execution_count": null,
   "metadata": {
    "collapsed": false
   },
   "outputs": [],
   "source": [
    "%matplotlib inline\n",
    "from IPython.display import set_matplotlib_formats\n",
    "set_matplotlib_formats('pdf', 'svg')"
   ]
  },
  {
   "cell_type": "code",
   "execution_count": null,
   "metadata": {
    "collapsed": true
   },
   "outputs": [],
   "source": [
    "from pylab import rcParams\n",
    "rcParams['figure.figsize'] = 10,7"
   ]
  },
  {
   "cell_type": "code",
   "execution_count": null,
   "metadata": {
    "collapsed": false
   },
   "outputs": [],
   "source": [
    "import scipy.stats\n",
    "import analysis\n",
    "from matplotlib import pyplot\n",
    "from matplotlib import colors\n",
    "from collections import Counter\n",
    "import itertools\n",
    "import string\n",
    "import random"
   ]
  },
  {
   "cell_type": "code",
   "execution_count": null,
   "metadata": {
    "collapsed": false
   },
   "outputs": [],
   "source": [
    "data = analysis.get_full_dict()"
   ]
  },
  {
   "cell_type": "code",
   "execution_count": null,
   "metadata": {
    "collapsed": false
   },
   "outputs": [],
   "source": [
    "correlations = {}\n",
    "edu_dict = {'Sophomore': 1, 'Junior': 2, 'Senior': 3, 'Graduate': 4}\n",
    "\n",
    "any = next(iter(data.keys()))\n",
    "questions = list(data[any].keys())\n",
    "top_pvals = []\n",
    "\n",
    "for i in range(len(questions)):\n",
    "    row = questions[i]\n",
    "    x = analysis.pull_data(data, data.keys(), row)\n",
    "    x = [edu_dict.get(k, k) for k in x]\n",
    "\n",
    "    if not isinstance(x[0], (int, float)):\n",
    "        print(row)\n",
    "        continue\n",
    "\n",
    "    correlations[row] = {}\n",
    "\n",
    "    for j in range(len(questions)):\n",
    "        col = questions[j]\n",
    "        y = analysis.pull_data(data, data.keys(), col)\n",
    "        y = [edu_dict.get(k, k) for k in y]\n",
    "\n",
    "        if not isinstance(y[0], (int, float)):\n",
    "            continue\n",
    "\n",
    "        correlations[row][col] = scipy.stats.pearsonr(x, y)\n",
    "\n",
    "        if j < i:\n",
    "            top_pvals.append((row, col) + correlations[row][col])"
   ]
  },
  {
   "cell_type": "code",
   "execution_count": null,
   "metadata": {
    "collapsed": false
   },
   "outputs": [],
   "source": [
    "sorted(top_pvals, key=lambda x: x[3])[:5]"
   ]
  },
  {
   "cell_type": "code",
   "execution_count": null,
   "metadata": {
    "collapsed": false
   },
   "outputs": [],
   "source": [
    "matrix = []\n",
    "#keys = ['Education']\n",
    "keys = []\n",
    "\n",
    "for k in ('usability', 'efficiency', 'knowledge'):\n",
    "    keys += analysis.qs_entry[k]\n",
    "    \n",
    "for k in ('usability', 'education', 'intention'):\n",
    "    keys += analysis.qs_exit[k]\n",
    "\n",
    "for i, row in enumerate(keys):\n",
    "    matrix.append([])\n",
    "    for j, col in enumerate(keys):\n",
    "        matrix[i].append(correlations[row][col])"
   ]
  },
  {
   "cell_type": "code",
   "execution_count": null,
   "metadata": {
    "collapsed": false,
    "scrolled": false
   },
   "outputs": [],
   "source": [
    "my_cmap = colors.LinearSegmentedColormap(\n",
    "    'Custom',\n",
    "    {\n",
    "        'red':   ((0.0, 1.0, 1.0),\n",
    "                  (0.4, 1.0, 1.0),\n",
    "                  (0.8, 0.0, 0.0),\n",
    "                  (1.0, 1.0, 1.0)),\n",
    "\n",
    "        'green': ((0.0, 0.0, 0.0),\n",
    "                  (0.4, 1.0, 1.0),\n",
    "                  (0.8, 0.0, 0.0),\n",
    "                  (1.0, 1.0, 1.0)),\n",
    "\n",
    "        'blue':  ((0.0, 0.0, 0.0),\n",
    "                  (0.4, 1.0, 1.0),\n",
    "                  (0.8, 1.0, 1.0),\n",
    "                  (1.0, 1.0, 1.0))\n",
    "    }\n",
    ")\n",
    "\n",
    "fig, ax = pyplot.subplots(figsize=[12,12])\n",
    "image = [[(1 + x[0]) / 2.5 if x[1] < 0.05 else 1.0 for x in row] for row in matrix]\n",
    "ax.imshow(image, cmap=my_cmap, interpolation='nearest')\n",
    "pyplot.title(\"Signifigant Correlations\", fontsize=16)\n",
    "#ax.xaxis.tick_top()\n",
    "pyplot.xticks(range(len(keys)), ['{}...'.format(' '.join(s.split()[:2])) for s in keys], rotation='vertical')\n",
    "pyplot.yticks(range(len(keys)), keys)\n",
    "#pyplot.setp(pyplot.xticks()[1], rotation=270)\n",
    "\n",
    "tick_colors = {\n",
    "    'Usability Rating (Entry)': 'k',\n",
    "    'Efficiency Rating (Entry)': 'saddlebrown',\n",
    "    'Knowledge Rating (Entry)': 'k',\n",
    "    'Usability Rating (Exit)': 'saddlebrown',\n",
    "    'Education Rating (Exit)': 'k',\n",
    "    'Intention Rating (Exit)': 'saddlebrown'\n",
    "}\n",
    "\n",
    "for t in ax.xaxis.get_ticklabels():\n",
    "    for c in tick_colors:\n",
    "        if (t.get_text() in analysis.categories[c]):\n",
    "            t.set_color(tick_colors[c])\n",
    "            \n",
    "for t in ax.yaxis.get_ticklabels():\n",
    "    for c in tick_colors:\n",
    "        if (t.get_text() in analysis.categories[c]):\n",
    "            t.set_color(tick_colors[c])\n",
    "            \n",
    "ax.grid(True)\n",
    "pyplot.tight_layout()\n",
    "\n",
    "pyplot.savefig(\"out/sig.png\", transparent=True)\n",
    "\n",
    "#fig, ax = pyplot.subplots()\n",
    "#image = [[1 - 20 * x[1] if x[1] < 0.05 else 0 for x in row] for row in matrix]\n",
    "#ax.imshow(image, cmap=pyplot.cm.Blues, interpolation='nearest')\n",
    "#pyplot.title(\"Signifigant P-Values\", fontsize=16)"
   ]
  },
  {
   "cell_type": "code",
   "execution_count": null,
   "metadata": {
    "collapsed": false
   },
   "outputs": [],
   "source": [
    "#analysis.main()"
   ]
  },
  {
   "cell_type": "code",
   "execution_count": null,
   "metadata": {
    "collapsed": false
   },
   "outputs": [],
   "source": [
    "table = analysis.get_full_dict()\n",
    "people = analysis.pull_users(table, \"Age\", lambda x: True)\n",
    "\n",
    "fig, ax = pyplot.subplots(figsize=[15, 8])\n",
    "pyplot.title(\"All Responses\")\n",
    "\n",
    "data = []\n",
    "reverse_keys = keys[::-1]\n",
    "\n",
    "for k in reverse_keys:\n",
    "    data.append(analysis.pull_data(table, people, k))\n",
    "\n",
    "plt = pyplot.boxplot(data,\n",
    "                     vert=False,\n",
    "                     patch_artist=True,\n",
    "                     showmeans=True) # , notch=True)\n",
    "\n",
    "xlabels = ['Disagree [1]', '[2]', '[3]', 'Agree [4]']\n",
    "pyplot.xticks(range(1, len(xlabels) + 1), xlabels)\n",
    "pyplot.yticks(range(1, len(keys) + 1), reverse_keys)\n",
    "pyplot.xlim([0.9, 4.1])\n",
    "\n",
    "for t in ax.yaxis.get_ticklabels():\n",
    "    for c in tick_colors:\n",
    "        if (t.get_text() in analysis.categories[c]):\n",
    "            t.set_color(tick_colors[c])\n",
    "            \n",
    "color_loop = itertools.cycle(['lightcoral', 'powderblue', 'lightsage', 'moccasin', 'honeydew'])\n",
    "\n",
    "for p in plt['boxes']:\n",
    "    pyplot.setp(p, color=next(color_loop))\n",
    "    \n",
    "pyplot.tight_layout()\n",
    "pyplot.savefig(\"out/all.png\", transparent=True)"
   ]
  },
  {
   "cell_type": "code",
   "execution_count": null,
   "metadata": {
    "collapsed": false
   },
   "outputs": [],
   "source": [
    "data = analysis.get_full_dict()\n",
    "\n",
    "matrix = []\n",
    "ykeys = []\n",
    "xkeys = []\n",
    "\n",
    "for k in ('usability', 'efficiency', 'knowledge'):\n",
    "    ykeys += analysis.qs_entry[k]\n",
    "    xkeys.append( (k, analysis.qs_entry[k]) )\n",
    "    \n",
    "for k in ('usability', 'education', 'intention'):\n",
    "    ykeys += analysis.qs_exit[k]\n",
    "    xkeys.append( (k, analysis.qs_exit[k]) )\n",
    "    \n",
    "for i, row in enumerate(ykeys):\n",
    "    ydat = analysis.pull_data(data, data.keys(), ykeys[i])\n",
    "    matrix.append([])\n",
    "    for j, col in enumerate(xkeys):\n",
    "        xdat = []\n",
    "        for k in xkeys[j][1]:\n",
    "            xdat.append(analysis.pull_data(data, data.keys(), k))\n",
    "        xdat = list(map(lambda x: sum(x) / len(xdat), zip(*xdat)))\n",
    "        matrix[i].append(scipy.stats.pearsonr(ydat, xdat))\n",
    "        \n",
    "xkeys = [k[0] for k in xkeys]\n",
    "\n",
    "fig, ax = pyplot.subplots(figsize=[12,12])\n",
    "image = [[(1 + x[0]) / 2.5 if x[1] < 0.05 else 1.0 for x in row] for row in matrix]\n",
    "ax.imshow(image, cmap=my_cmap, interpolation='nearest')\n",
    "pyplot.title(\"Signifigant Correlations\", fontsize=16)\n",
    "#ax.xaxis.tick_top()\n",
    "pyplot.xticks(range(len(xkeys)), ['{}...'.format(' '.join(s.split()[:2])) for s in xkeys], rotation='vertical')\n",
    "pyplot.yticks(range(len(ykeys)), ykeys)\n",
    "#pyplot.setp(pyplot.xticks()[1], rotation=270)\n",
    "\n",
    "for t in ax.xaxis.get_ticklabels():\n",
    "    for c in tick_colors:\n",
    "        if (t.get_text() in analysis.categories[c]):\n",
    "            t.set_color(tick_colors[c])\n",
    "            \n",
    "for t in ax.yaxis.get_ticklabels():\n",
    "    for c in tick_colors:\n",
    "        if (t.get_text() in analysis.categories[c]):\n",
    "            t.set_color(tick_colors[c])\n",
    "            \n",
    "ax.grid(True)\n",
    "pyplot.tight_layout()\n",
    "\n",
    "pyplot.savefig(\"out/sig_alt.png\", transparent=True)"
   ]
  },
  {
   "cell_type": "code",
   "execution_count": null,
   "metadata": {
    "collapsed": false
   },
   "outputs": [],
   "source": [
    "for cat in analysis.categories:\n",
    "    data = []\n",
    "    for key in analysis.categories[cat]:\n",
    "        data += analysis.pull_data(table, people, key)\n",
    "    print(cat + \": \" + str(sum(data)/len(data)))"
   ]
  },
  {
   "cell_type": "code",
   "execution_count": null,
   "metadata": {
    "collapsed": false,
    "scrolled": false
   },
   "outputs": [],
   "source": [
    "keys = analysis.qs_entry['qualitative'] + analysis.qs_exit['qualitative']\n",
    "entry_list, exit_list = analysis.read_data()\n",
    "qual_dict = analysis.organize_data(entry_list, exit_list)[4]\n",
    "users = [k for k in qual_dict]\n",
    "data = {key: analysis.pull_data(qual_dict, users, key) for key in keys}"
   ]
  },
  {
   "cell_type": "code",
   "execution_count": null,
   "metadata": {
    "collapsed": false
   },
   "outputs": [],
   "source": [
    "data['What do you think needs the most improvements?']"
   ]
  },
  {
   "cell_type": "code",
   "execution_count": null,
   "metadata": {
    "collapsed": false
   },
   "outputs": [],
   "source": [
    "punctuation = set(string.punctuation)\n",
    "\n",
    "any = next(iter(qual_dict.keys()))\n",
    "counter = Counter()\n",
    "words = []\n",
    "\n",
    "for k in qual_dict[any].keys():\n",
    "    for s in data[k]:\n",
    "        sanitized = ''.join(ch.lower() for ch in s if ch not in punctuation)\n",
    "        words += sanitized.split()\n",
    "\n",
    "counter.update(words)    \n",
    "list(itertools.takewhile(lambda x: x[1] > 3, counter.most_common()))"
   ]
  },
  {
   "cell_type": "code",
   "execution_count": null,
   "metadata": {
    "collapsed": false
   },
   "outputs": [],
   "source": [
    "markov = {}\n",
    "\n",
    "for i in range(1, len(words)):\n",
    "    if words[i-1] in markov:\n",
    "        markov[words[i-1]].append(words[i])\n",
    "    else:\n",
    "        markov[words[i-1]] = [words[i]]\n",
    "        \n",
    "s = [random.choice(list(markov.keys()))]\n",
    "\n",
    "while len(s) < 100 and s[-1] in markov:\n",
    "    s.append(random.choice(markov[s[-1]]))\n",
    "\n",
    "print(s)"
   ]
  },
  {
   "cell_type": "code",
   "execution_count": null,
   "metadata": {
    "collapsed": true
   },
   "outputs": [],
   "source": []
  }
 ],
 "metadata": {
  "kernelspec": {
   "display_name": "Python 3",
   "language": "python",
   "name": "python3"
  },
  "language_info": {
   "codemirror_mode": {
    "name": "ipython",
    "version": 3
   },
   "file_extension": ".py",
   "mimetype": "text/x-python",
   "name": "python",
   "nbconvert_exporter": "python",
   "pygments_lexer": "ipython3",
   "version": "3.5.1"
  }
 },
 "nbformat": 4,
 "nbformat_minor": 0
}
